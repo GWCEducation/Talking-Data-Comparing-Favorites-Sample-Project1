{
 "cells": [
  {
   "cell_type": "markdown",
   "metadata": {},
   "source": [
    "# Talking Data Sample Project\n",
    "## Part 2: Setting up the program"
   ]
  },
  {
   "cell_type": "code",
   "execution_count": null,
   "metadata": {},
   "outputs": [],
   "source": [
    "import pandas as pd\n",
    "import matplotlib.pyplot as plt\n",
    "\n",
    "pd.set_option('display.max_columns', None)\n",
    "pd.set_option('max_colwidth', None)\n",
    "\n",
    "movieData = pd.read_csv('./rotten_tomatoes_movies.csv')\n",
    "favMovie = 'The Iron Giant'\n",
    "\n",
    "print('My favorite movie is ' + favMovie)"
   ]
  },
  {
   "cell_type": "markdown",
   "metadata": {},
   "source": [
    "## Part 3: Investigate the data\n",
    "// Uncomment to see data\n",
    "// print(movieData.head())\n",
    "// print(movieData['movie_title'])"
   ]
  },
  {
   "cell_type": "markdown",
   "metadata": {},
   "source": [
    "## Part 4: Filter data"
   ]
  },
  {
   "cell_type": "code",
   "execution_count": null,
   "metadata": {},
   "outputs": [],
   "source": [
    "print('\\nThe data for my favorite movie is:')\n",
    "print('\\n')\n",
    "favMovieBooleanList = movieData['movie_title'] == favMovie\n",
    "favMovieData = movieData.loc[favMovieBooleanList]\n",
    "print(favMovieData)\n",
    "print('\\n\\n')\n",
    "animationMovieBooleanList = movieData['genres'].str.contains('Animation')\n",
    "animationMovieData = movieData.loc[animationMovieBooleanList]\n",
    "numOfMovies = animationMovieData.shape[0]\n",
    "print('We will be comparing ' + favMovie +\n",
    "      ' to other movies under the genre Animation in the data set.\\n')\n",
    "print('There are ' + str(numOfMovies) + ' movies under the category Animation.')\n",
    "print('~~~~~~~~~~~~~~~~~~~~~~~~~~~~~~~~~~~~~~~~~~~~~~~~~~~~~~~~~~\\n')\n",
    "input('Press enter to see more information about how ' + favMovie +\n",
    "      ' compares to other movies in this genre.\\n')"
   ]
  },
  {
   "cell_type": "markdown",
   "metadata": {},
   "source": [
    "## Part 5: Describe data"
   ]
  },
  {
   "cell_type": "code",
   "execution_count": null,
   "metadata": {},
   "outputs": [],
   "source": [
    "min_rating = animationMovieData['audience_rating'].min()\n",
    "print('The min audience rating of the data set is: ' + str(min_rating))\n",
    "print(favMovie + ' is rated 68 points higher than the lowest rated movie.')\n",
    "print()",
    "max_rating = animationMovieData['audience_rating'].max()\n",
    "print('The max audience rating of the data set is: ' + str(max_rating))\n",
    "print(favMovie + ' is rated 10 points lower than the highest rated movie.')\n",
    "print()",
    "mean_rating = animationMovieData['audience_rating'].mean()\n",
    "print('The mean audience rating of the data set is: ' + str(mean_rating))\n",
    "print(favMovie + ' is higher than the mean movie rating.')",
    "median_rating = animationMovieData['audience_rating'].median()\n",
    "print('The median audience rating of the data set is: ' + str(median_rating))\n",
    "print(favMovie + ' is higher than the median movie rating.')\n",
    "print('~~~~~~~~~~~~~~~~~~~~~~~~~~~~~~~~~~~~~~~~~~~~~~~~~~~~~~~~~~\\n')\n",
    "input('Press enter to see data visualizations.\\n')"
   ]
  },
  {
   "cell_type": "markdown",
   "metadata": {},
   "source": [
    "## Part 6: Create graphs"
   ]
  },
  {
   "cell_type": "code",
   "execution_count": null,
   "metadata": {},
   "outputs": [],
   "source": [
    "plt.hist(animationMovieData['audience_rating'], range=(0, 100), bins=20)\n",
    "plt.grid(True)\n",
    "plt.title('Audience Ratings of Animation Movies Histogram')\n",
    "plt.xlabel('Audience Ratings')\n",
    "plt.ylabel('Number of Animation Movies')\n",
    "print('According to the histogram, most animated movies had an audience rating between 70 and 80.')\n",
    "print('Close the graph by pressing the \'X\' in the top right corner.')\n",
    "plt.show()\n",
    "plt.scatter(data = animationMovieData, x = 'audience_rating', y = 'critic_rating')\n",
    "plt.grid(True)\n",
    "plt.title('Audience Rating vs Critic Rating')\n",
    "plt.xlabel('Audience Rating')\n",
    "plt.ylabel('Critic Rating')\n",
    "plt.xlim(0, 100)\n",
    "plt.ylim(0, 100)\n",
    "print('According to the scatter plot, Critic Ratings increase as Audience Ratings increase.')\n",
    "print('Close the graph by pressing the \'X\' in the top right corner.')\n",
    "plt.show()"
   ]
  },
  {
   "cell_type": "markdown",
   "metadata": {},
   "source": [
    "## Conclusion\n",
    "Thank you for reading through my data analysis!"
   ]
  }
 ],
 "metadata": {
  "kernelspec": {
   "display_name": "Python 3",
   "language": "python",
   "name": "python3"
  },
  "language_info": {
   "codemirror_mode": {
    "name": "ipython",
    "version": 3
   },
   "file_extension": ".py",
   "mimetype": "text/x-python",
   "name": "python",
   "nbconvert_exporter": "python",
   "pygments_lexer": "ipython3",
   "version": "3.8.5"
  }
 },
 "nbformat": 4,
 "nbformat_minor": 4
}

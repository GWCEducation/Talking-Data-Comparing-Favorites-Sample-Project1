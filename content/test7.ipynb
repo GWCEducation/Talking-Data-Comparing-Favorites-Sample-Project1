{
  "metadata": {
    "kernelspec": {
      "name": "python",
      "display_name": "Python (Pyodide)",
      "language": "python"
    },
    "language_info": {
      "codemirror_mode": {
        "name": "python",
        "version": 3
      },
      "file_extension": ".py",
      "mimetype": "text/x-python",
      "name": "python",
      "nbconvert_exporter": "python",
      "pygments_lexer": "ipython3",
      "version": "3.8"
    }
  },
  "nbformat_minor": 4,
  "nbformat": 4,
  "cells": [
    {
      "cell_type": "code",
      "source": "#Talking Data Sample Project\n\n#Part 2 Setting up the program\nimport pandas as pd\nimport matplotlib.pyplot as plt\n\npd.set_option('display.max_columns', None)\npd.set_option('max_colwidth', None)\n\nmovieData = pd.read_csv('./rotten_tomatoes_movies.csv')\nfavMovie = \"The Iron Giant\"\n\nprint(\"My favorite movie is \" + favMovie)\n\n#Part 3 Investigate the data\n#print(movieData.head())\n#print(movieData[\"movie_title\"])\n\n#Part 4 Filter data\nprint(\"\\nThe data for my favorite movie is:\")\nprint(\"\\n\")\n#Create a new variable to store your favorite movie information\nfavMovieBooleanList = movieData[\"movie_title\"] == favMovie\n#print(favMovieBooleanList)\nfavMovieData = movieData.loc[favMovieBooleanList]\n\nprint(favMovieData)\nprint(\"\\n\\n\")\n\n#Create a new variable to store a new data set with a certain genre\nanimationMovieBooleanList = movieData[\"genres\"].str.contains(\"Animation\")\n\nanimationMovieData = movieData.loc[animationMovieBooleanList]\n\nnumOfMovies = animationMovieData.shape[0]\n\nprint(\"We will be comparing \" + favMovie +\n      \" to other movies under the genre Animation in the data set.\\n\")\nprint(\"There are \" + str(numOfMovies) + \" movies under the category Animation.\")\n\nprint(\"~~~~~~~~~~~~~~~~~~~~~~~~~~~~~~~~~~~~~~~~~~~~~~~~~~~~~~~~~~\\n\")\ninput(\"Press enter to see more information about how \" + favMovie +\n      \" compares to other movies in this genre.\\n\")\n\n#Part 5 Describe data\n#find min\nmin = animationMovieData['audience_rating'].min()\nprint(\"The min audience rating of the data set is: \" + str(min))\nprint(favMovie + \" is rated 68 points higher than the lowest rated movie.\")\nprint()\n\n#find max\nmax = animationMovieData['audience_rating'].max()\nprint(\"The max audience rating of the data set is: \" + str(max))\nprint(favMovie + \" is rated 10 points lower than the highest rated movie.\")\nprint()\n\n#find mean\nmean = animationMovieData['audience_rating'].mean()\nprint(\"The mean audience rating of the data set is: \" + str(mean))\nprint(favMovie + \" is higher than the mean movie rating.\")\n\n#find median\nmedian = animationMovieData['audience_rating'].median()\nprint(\"The median audience rating of the data set is: \" + str(median))\nprint(favMovie + \" is higher than the median movie rating.\")\n\nprint(\"~~~~~~~~~~~~~~~~~~~~~~~~~~~~~~~~~~~~~~~~~~~~~~~~~~~~~~~~~~\\n\")\ninput(\"Press enter to see data visualizations.\\n\")\n\n#Part 6 Create graphs\n#Create histogram\nplt.hist(animationMovieData[\"audience_rating\"], range = (0, 100), bins = 20)\n\n#Adds labels and adjusts histogram\nplt.grid(True)\nplt.title(\"Audience Ratings of Animation Movies Histogram\")\nplt.xlabel(\"Audience Ratings\")\nplt.ylabel(\"Number of Animation Movies\")\n\n#Prints interpretation of histogram\nprint(\n  \"According to the histogram, most animated movies had an audience rating between 70 and 80.\"\n)\nprint(\"Close the graph by pressing the 'X' in the top right corner.\")\nprint()\n\n#Show histogram\nplt.show()\n\n#Create scatterplot\nplt.scatter(data = animationMovieData, x = \"audience_rating\", y = \"critic_rating\")\n\n#Adds labels and adjusts scatterplot\nplt.grid(True)\nplt.title(\"Audience Rating vs Critic Rating\")\nplt.xlabel(\"Audience Rating\")\nplt.ylabel(\"Critic Rating\")\nplt.xlim(0, 100)\nplt.ylim(0, 100)\n\n#Prints interpretation of scatterplot\nprint(\n  \"According to the scatter plot, Critic Ratings increase as Audience Ratings increase.\"\n)\nprint()\n\nprint(\"Close the graph by pressing the 'X' in the top right corner.\")\n\n#Show scatterplot\nplt.show()\n\nprint(\"\\nThank you for reading through my data analysis!\")\n",
      "metadata": {
        "trusted": true
      },
      "outputs": [],
      "execution_count": null
    },
    {
      "cell_type": "raw",
      "source": "",
      "metadata": {}
    }
  ]
}